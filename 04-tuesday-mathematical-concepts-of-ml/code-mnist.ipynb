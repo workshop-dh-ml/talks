{
 "cells": [
  {
   "cell_type": "code",
   "execution_count": 1,
   "metadata": {},
   "outputs": [],
   "source": [
    "import numpy as np\n",
    "import torch\n",
    "import torchvision\n",
    "import matplotlib.pyplot as plt\n",
    "from time import time\n",
    "from torchvision import datasets, transforms\n",
    "from torch import nn, optim"
   ]
  },
  {
   "cell_type": "markdown",
   "metadata": {},
   "source": [
    "# The Data"
   ]
  },
  {
   "cell_type": "code",
   "execution_count": 2,
   "metadata": {},
   "outputs": [],
   "source": [
    "transform = transforms.Compose([transforms.ToTensor(),\n",
    "                              transforms.Normalize((0.1307,), (0.3081,)),\n",
    "                              ])\n",
    "\n",
    "trainset = datasets.MNIST('data/', download=True, train=True, transform=transform)\n",
    "valset = datasets.MNIST('data/', download=True, train=False, transform=transform)\n"
   ]
  },
  {
   "cell_type": "code",
   "execution_count": 3,
   "metadata": {},
   "outputs": [
    {
     "data": {
      "image/png": "[encoded data removed]",
      "text/plain": [
       "<Figure size 72x72 with 1 Axes>"
      ]
     },
     "metadata": {
      "needs_background": "light"
     },
     "output_type": "display_data"
    },
    {
     "data": {
      "image/png": "[encoded data removed]",
      "text/plain": [
       "<Figure size 72x72 with 1 Axes>"
      ]
     },
     "metadata": {
      "needs_background": "light"
     },
     "output_type": "display_data"
    },
    {
     "data": {
      "image/png": "[encoded data removed]",
      "text/plain": [
       "<Figure size 72x72 with 1 Axes>"
      ]
     },
     "metadata": {
      "needs_background": "light"
     },
     "output_type": "display_data"
    },
    {
     "data": {
      "image/png": "[encoded data removed]",
      "text/plain": [
       "<Figure size 72x72 with 1 Axes>"
      ]
     },
     "metadata": {
      "needs_background": "light"
     },
     "output_type": "display_data"
    },
    {
     "data": {
      "image/png": "[encoded data removed]",
      "text/plain": [
       "<Figure size 72x72 with 1 Axes>"
      ]
     },
     "metadata": {
      "needs_background": "light"
     },
     "output_type": "display_data"
    }
   ],
   "source": [
    "import matplotlib.pyplot as plt\n",
    "\n",
    "for i in [8,4,22,8,66]:\n",
    "    image, label = trainset[i]\n",
    "    plt.figure(figsize=(1,1))\n",
    "    plt.imshow(image.numpy().squeeze(), cmap='gray_r');\n",
    "    plt.axis('off')\n",
    "#     plt.savefig('../mnist_pics/pic{}.png'.format(i), transparent=True)\n",
    "    plt.show()\n",
    "    plt.close()"
   ]
  },
  {
   "cell_type": "markdown",
   "metadata": {},
   "source": [
    "# The Model"
   ]
  },
  {
   "cell_type": "code",
   "execution_count": 6,
   "metadata": {},
   "outputs": [],
   "source": [
    "def sigma(x):\n",
    "    return x.clamp(min=0)\n",
    "\n",
    "def random_param(shape):\n",
    "    std = 1/np.sqrt(shape[-1])\n",
    "    param = torch.normal(0., std, shape)\n",
    "    param.requires_grad=True\n",
    "    return param\n",
    "\n",
    "class NN():\n",
    "    def __init__(self, dims=[784, 128, 64, 10]):\n",
    "        \n",
    "        self.A, self.B = [],[]\n",
    "        for l in range(len(dims) -1 ):\n",
    "            self.A += [random_param((dims[l],dims[l+1]))]\n",
    "            self.B += [random_param((dims[l+1],)) ]\n",
    "        \n",
    "        self.theta = self.A + self.B\n",
    "        \n",
    "    def forward(self, x):\n",
    "        for a,b in zip(self.A, self.B):\n",
    "            x = sigma(x.matmul(a) + b)\n",
    "        return x\n"
   ]
  },
  {
   "cell_type": "markdown",
   "metadata": {},
   "source": [
    "# The Training"
   ]
  },
  {
   "cell_type": "code",
   "execution_count": 8,
   "metadata": {},
   "outputs": [
    {
     "name": "stdout",
     "output_type": "stream",
     "text": [
      "Epoch 0 - Training loss: 0.7168804148023606\n",
      "Epoch 1 - Training loss: 0.4226807407373896\n",
      "Epoch 2 - Training loss: 0.30355091258861006\n",
      "Epoch 3 - Training loss: 0.2808127522820016\n",
      "Epoch 4 - Training loss: 0.2684693714748516\n",
      "\n",
      "Training Time (in minutes) = 3.223597999413808\n"
     ]
    }
   ],
   "source": [
    "model = NN()\n",
    "\n",
    "lr = 0.002\n",
    "\n",
    "epochs = 5\n",
    "\n",
    "criterion = nn.CrossEntropyLoss()\n",
    "time0 = time()\n",
    "\n",
    "for e in range(epochs):\n",
    "    running_loss = 0\n",
    "    for image, label in trainset:\n",
    "        # Flatten MNIST images into a 784 long vector\n",
    "        output = model.forward(image.flatten())\n",
    "        loss = criterion(output.unsqueeze(0), torch.tensor([label]))\n",
    "        \n",
    "        loss.backward()\n",
    "        \n",
    "        #And optimizes the weights \n",
    "        for param in model.theta:\n",
    "            with torch.no_grad(): \n",
    "                param -= lr*param.grad\n",
    "            param.grad.zero_()\n",
    "        \n",
    "        running_loss += loss.item()\n",
    "    else:\n",
    "        print(\"Epoch {} - Training loss: {}\".format(e, running_loss/len(trainset)))\n",
    "print(\"\\nTraining Time (in minutes) =\",(time()-time0)/60)"
   ]
  },
  {
   "cell_type": "markdown",
   "metadata": {},
   "source": [
    "# The Results"
   ]
  },
  {
   "cell_type": "code",
   "execution_count": 10,
   "metadata": {},
   "outputs": [
    {
     "name": "stdout",
     "output_type": "stream",
     "text": [
      "The accuracy on training the set is 87.16000000000001%\n"
     ]
    }
   ],
   "source": [
    "test = 'training' # 'training'\n",
    "\n",
    "if test == 'validation':\n",
    "    testset = valset\n",
    "else:\n",
    "    testset == trainset\n",
    "compare = []\n",
    "for image, label in testset:\n",
    "    prediction = model.forward(image.flatten()).argmax()\n",
    "    compare.append(prediction == label)\n",
    "\n",
    "acc = float(sum(compare)/len(compare))\n",
    "print('The accuracy on {} the set is {}%'.format(test,100*round(acc,4)))\n"
   ]
  },
  {
   "cell_type": "code",
   "execution_count": null,
   "metadata": {},
   "outputs": [],
   "source": [
    "for i in range(300):\n",
    "    image, label = trainset[i]\n",
    "    prediction = model.forward(image.flatten()).argmax()\n",
    "    if prediction != label:\n",
    "        plt.figure(figsize=(1,1))\n",
    "        plt.imshow(image.numpy().squeeze(), cmap='gray_r');\n",
    "        plt.axis('off')\n",
    "        plt.title(\"Model predicted {}, \\n the true label is {}\".format(prediction, label))\n",
    "        plt.show()\n",
    "        plt.close()"
   ]
  },
  {
   "cell_type": "code",
   "execution_count": null,
   "metadata": {},
   "outputs": [],
   "source": []
  }
 ],
 "metadata": {
  "kernelspec": {
   "display_name": "test5",
   "language": "python",
   "name": "test5"
  },
  "language_info": {
   "codemirror_mode": {
    "name": "ipython",
    "version": 3
   },
   "file_extension": ".py",
   "mimetype": "text/x-python",
   "name": "python",
   "nbconvert_exporter": "python",
   "pygments_lexer": "ipython3",
   "version": "3.9.0"
  }
 },
 "nbformat": 4,
 "nbformat_minor": 4
}
